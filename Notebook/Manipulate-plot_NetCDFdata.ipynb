{
 "cells": [
  {
   "cell_type": "markdown",
   "metadata": {},
   "source": [
    "# Operational Modelling Workshop - 27 May 2020"
   ]
  },
  {
   "cell_type": "markdown",
   "metadata": {},
   "source": [
    "# Table of contents\n",
    "\n",
    "- [1. Introduction](#1.-Introduction)\n",
    "  - Environment Setup\n",
    "- [2. Subset and dowload data using motuclient](#2.-Subset-and-dowload-data-using-motuclient)\n",
    "- [3. Read the files downloaded and access its metadata](#3.-Read-the-files-downloaded-and-access-its-metadata)\n",
    "- [4. Data conversion](#4.-Data-conversion)\n",
    "  - Conversion to CSV\n",
    "  - Conversion to Shapefile\n",
    "- [5. Plot the Data](#5.-Plot-the-Data)\n",
    "  - Data visualization at global scale\n",
    "  - Map creation at local scale \n",
    "- [6. Recursive data plotting](#6.-Recursive-data-plotting)\n",
    "  - Plots Animation (Gif)\n",
    "***"
   ]
  },
  {
   "cell_type": "markdown",
   "metadata": {},
   "source": [
    "## 1. Introduction"
   ]
  },
  {
   "cell_type": "markdown",
   "metadata": {},
   "source": [
    "We will focus on the following product (available on the [Copernicus Catalogue](http://marine.copernicus.eu/services-portfolio/access-to-products/?option=com_csw&task=results)):\n",
    "- [SST_GLO_SST_L4_NRT_OBSERVATIONS_010_001](http://marine.copernicus.eu/services-portfolio/access-to-products/?option=com_csw&view=details&product_id=SST_GLO_SST_L4_NRT_OBSERVATIONS_010_001)\n",
    "\n",
    "This product data uses satellite data provided by the [GHRSST project](https://www.ghrsst.org) together with in-situ observations, to determine the sea surface temperature.\n",
    "\n",
    "# ![header](Images/Product-info.png)\n",
    "\n",
    "- `Level4`: Data have had the greatest amount of processing applied, possibly including modelled output and measurements from several satellites and several days. All input data are validated.\n",
    "\n",
    "To access the full product information page and its download services, documentation and New flash please click [here](https://resources.marine.copernicus.eu/?option=com_csw&task=results?option=com_csw&view=details&product_id=SST_GLO_SST_L4_NRT_OBSERVATIONS_010_001)\n",
    "\n",
    "**Please remember that this product has two resolutions, 0.05°x 0.05°  and 0.25°x 0.25° as the highest and lowest resolution respectively. The resolution that appears is the product information page (0.05°x 0.05°) is relative just to the following dataset:**\n",
    "\n",
    "- **METOFFICE-GLO-SST-L4-NRT-OBS-SST-V2**"
   ]
  },
  {
   "cell_type": "markdown",
   "metadata": {},
   "source": [
    "### 1.1 Environment Setup\n",
    "\n",
    "In the scenario to run it in local you need to create an ad-hoc python environment. A way to do so is using [**Anaconda**](https://www.anaconda.com/) python distibution. Once insalled anaconda the command to use to inizialise a new empty environment is:\n",
    "```\n",
    "conda create --name myenv\n",
    "```\n",
    "To activate the new environment just type:\n",
    "```\n",
    "conda activate myenv \n",
    "```\n",
    "You will be able then to install all the python packages needed inside the environment previously created. \n",
    "\n",
    "To simplify the process I added the folder \"Environment\" with an \"environment.yml\" file which can be used to download and set automatically the Python environment and install all the python packages needed for this tutorial. Just go inside the folder called \"Environment\" and type in the terminal/command promp the following line of code:\n",
    "```\n",
    "conda env create -f environment.yml\n",
    "```\n",
    "When the process is completed then you need to just activate the new environment created typing in the terminal/command-propt the following:\n",
    "```\n",
    "conda activate JupLab4NetCDF \n",
    "```"
   ]
  },
  {
   "cell_type": "code",
   "execution_count": null,
   "metadata": {},
   "outputs": [],
   "source": [
    "import warnings\n",
    "warnings.filterwarnings('ignore')               \n",
    "\n",
    "import xarray as xr                             \n",
    "import numpy as np \n",
    "import pandas as pd\n",
    "\n",
    "%matplotlib inline \n",
    "import matplotlib as mpl                        \n",
    "from matplotlib.dates import date2num, num2date                                         \n",
    "import matplotlib.pyplot as plt\n",
    "from mpl_toolkits.basemap import Basemap \n",
    "import matplotlib.animation as animation\n",
    "       \n",
    "                                \n",
    "import cartopy                                  \n",
    "import cartopy.crs as ccrs                      \n",
    "import cartopy.feature as cfeature              \n",
    "\n",
    "from shapely.geometry.polygon import Polygon \n",
    "from shapely.geometry import Point, mapping\n",
    "from fiona import collection\n",
    "import shapefile\n",
    "\n",
    "import glob \n",
    "import os\n",
    "import sys\n",
    "import csv342 as csv\n",
    "import datetime as dt                           \n",
    "import moviepy.editor as mpy  \n",
    "from natsort import natsorted"
   ]
  },
  {
   "cell_type": "markdown",
   "metadata": {},
   "source": [
    "## 2. Subset and dowload data using motuclient "
   ]
  },
  {
   "cell_type": "markdown",
   "metadata": {},
   "source": [
    "The motuclient scripts to request and download the data from the SST_GLO_SST_L4_NRT_OBSERVATIONS_010_001 product, in both the montly-mean (2020-04-15) and daily-mean (from 2020-04-01 to 2020-04-30) datasets (lower resolution 0.25°x 0.25°), are showed below. \n",
    "\n",
    "The files saved are called \"download_motuclient.nc\" and \"download_motuclient30days\" respectively and they are going to be automatically stored, once downloaded, inside the \"Data\" folder. \n",
    "\n",
    "The only variable downloaded and used in this tutorial is the \"analysed_sst\" (long mame: \"analysed sea surface temperature\") expressed in Kelvin. Furthermore It is set for both the data requests the same geographic bounding box. "
   ]
  },
  {
   "cell_type": "markdown",
   "metadata": {},
   "source": [
    "**Below you need to type the CMEMS log in credentials (in between \"\") to be able downloading data:**"
   ]
  },
  {
   "cell_type": "markdown",
   "metadata": {},
   "source": [
    "If you have not credential just jusp these download steps because the data sample is already downloaded."
   ]
  },
  {
   "cell_type": "code",
   "execution_count": null,
   "metadata": {},
   "outputs": [],
   "source": [
    "Username = \"\"\n",
    "Password = \"\""
   ]
  },
  {
   "cell_type": "markdown",
   "metadata": {},
   "source": [
    "**One month data request (from monthly-mean dataset):**"
   ]
  },
  {
   "cell_type": "code",
   "execution_count": null,
   "metadata": {},
   "outputs": [],
   "source": [
    "!python -m motuclient \\\n",
    " --user $Username --pwd $Password \\\n",
    " --motu http://nrt.cmems-du.eu/motu-web/Motu \\\n",
    " --service-id SST_GLO_SST_L4_NRT_OBSERVATIONS_010_001-TDS \\\n",
    " --product-id METOFFICE-GLO-SST-L4-NRT-OBS-SST-MON-V2 \\\n",
    " --longitude-min -15 --longitude-max 0 \\\n",
    " --latitude-min 35 --latitude-max 45 \\\n",
    " --date-min \"2020-04-15 12:00:00\" --date-max \"2020-04-15 12:00:00\" \\\n",
    " --variable analysed_sst \\\n",
    " --out-dir Data --out-name download_motuclient.nc "
   ]
  },
  {
   "cell_type": "markdown",
   "metadata": {},
   "source": [
    "**30 days data request (from daily-mean dataset):**"
   ]
  },
  {
   "cell_type": "code",
   "execution_count": null,
   "metadata": {},
   "outputs": [],
   "source": [
    "!python -m motuclient \\\n",
    " --user $Username --pwd $Password \\\n",
    " --motu http://nrt.cmems-du.eu/motu-web/Motu \\\n",
    " --service-id SST_GLO_SST_L4_NRT_OBSERVATIONS_010_001-TDS \\\n",
    " --product-id METOFFICE-GLO-SST-L4-NRT-OBS-SST-V2 \\\n",
    " --longitude-min -15 --longitude-max 0 \\\n",
    " --latitude-min 35 --latitude-max 45 \\\n",
    " --date-min \"2020-04-01 12:00:00\" --date-max \"2020-04-30 12:00:00\" \\\n",
    " --variable analysed_sst \\\n",
    " --out-dir Data --out-name download_motuclient30days.nc "
   ]
  },
  {
   "cell_type": "markdown",
   "metadata": {},
   "source": [
    "## 3. Read the files downloaded and access its metadata"
   ]
  },
  {
   "cell_type": "markdown",
   "metadata": {},
   "source": [
    "**For the monthly-mean file:**"
   ]
  },
  {
   "cell_type": "code",
   "execution_count": null,
   "metadata": {},
   "outputs": [],
   "source": [
    "#Path where the data file is located\n",
    "data = \"Data/download_motuclient.nc\""
   ]
  },
  {
   "cell_type": "code",
   "execution_count": null,
   "metadata": {},
   "outputs": [],
   "source": [
    "#Read the data as dataset (DS)\n",
    "DS = xr.open_dataset(data)"
   ]
  },
  {
   "cell_type": "code",
   "execution_count": null,
   "metadata": {},
   "outputs": [],
   "source": [
    "#Show the metadata\n",
    "DS"
   ]
  },
  {
   "cell_type": "code",
   "execution_count": null,
   "metadata": {},
   "outputs": [],
   "source": [
    "#Extract from the dataset (DS) the variable needed\n",
    "lons = DS.variables['lon'][:]\n",
    "lats = DS.variables['lat'][:]\n",
    "sst = DS.variables['analysed_sst'][0, :, :]  #[time,lat,long]"
   ]
  },
  {
   "cell_type": "code",
   "execution_count": null,
   "metadata": {},
   "outputs": [],
   "source": [
    "#It is good habit to close a dataset (DS) when done\n",
    "DS.close()"
   ]
  },
  {
   "cell_type": "markdown",
   "metadata": {},
   "source": [
    "**For the daily-mean file:**"
   ]
  },
  {
   "cell_type": "code",
   "execution_count": null,
   "metadata": {},
   "outputs": [],
   "source": [
    "data30days = \"Data/download_motuclient30days.nc\""
   ]
  },
  {
   "cell_type": "code",
   "execution_count": null,
   "metadata": {},
   "outputs": [],
   "source": [
    "DS30d = xr.open_dataset(data30days)"
   ]
  },
  {
   "cell_type": "code",
   "execution_count": null,
   "metadata": {},
   "outputs": [],
   "source": [
    "DS30d"
   ]
  },
  {
   "cell_type": "code",
   "execution_count": null,
   "metadata": {},
   "outputs": [],
   "source": [
    "DS30d.close()"
   ]
  },
  {
   "cell_type": "markdown",
   "metadata": {},
   "source": [
    "## 4. Data conversion\n",
    "\n",
    "The NetCDF format is used to store multidimentional scientific data. As Python many programming language and softwares are able to access the NetCDF files. However, sometime can be handy to convert them in others formats as can be the \"csv\" (or \"Comma Separated Value\" where each row is identified as a single data \"record\") and the \"Shapefile\"(Geospatial vector data format for geographic information system software which is developed and regulated by Esdri) file format. Below an example of conversion in \"CSV\" and \"Shapefile\":"
   ]
  },
  {
   "cell_type": "markdown",
   "metadata": {},
   "source": [
    "### 4.1 Conversion to CSV"
   ]
  },
  {
   "cell_type": "code",
   "execution_count": null,
   "metadata": {},
   "outputs": [],
   "source": [
    "#Read the file and leave the times in our file encoded as numbers. We create a dataset called \"ds\"\n",
    "ds = xr.open_dataset(\"Data/download_motuclient.nc\", decode_times=False)\n",
    "ds"
   ]
  },
  {
   "cell_type": "code",
   "execution_count": null,
   "metadata": {},
   "outputs": [],
   "source": [
    "# Convert our dataset in a dataframe called \"df\" where the data is organise in a tabular form\n",
    "df = ds.to_dataframe()\n",
    "df"
   ]
  },
  {
   "cell_type": "code",
   "execution_count": null,
   "metadata": {},
   "outputs": [],
   "source": [
    "#The entire dataframe (also the \"NaN\" values) is converted as csv file\n",
    "df.to_csv(\"Data/CSV/download_motuclient.csv\")\n",
    "\n",
    "#Another csv file, whithout \"NaN\" values, is produced\n",
    "data = pd.read_csv(\"Data/CSV/download_motuclient.csv\")\n",
    "data.dropna().to_csv(\"Data/CSV/download_motuclient_NoNAN.csv\", index = False)"
   ]
  },
  {
   "cell_type": "markdown",
   "metadata": {},
   "source": [
    "### 4.2 Conversion to Shapefile\n",
    "\n",
    "To produce the \"shapefile\" we are going to use the csv file generated before. In particular we are going to use the one without NaN values (called \"download_motuclient_NoNAN.csv\"). We proceed like that to avoid that in our shapefile are going to be included empty or not valid records (in land data aquisition for example). The geometry of the shapefile choosen which rapresent the best our data is the \"Point\" and then starting from our csv we are going to generate a 2d cloud of point desribing the \"analised_sst\" data distribution. Below the code to convert our csv in a shapefile:  "
   ]
  },
  {
   "cell_type": "code",
   "execution_count": null,
   "metadata": {},
   "outputs": [],
   "source": [
    "filecsv = open(\"Data/CSV/download_motuclient_NoNAN.csv\")\n",
    "\n",
    "listed=[]\n",
    "line = filecsv.readline()\n",
    "for u in line.split(','):\n",
    "    listed.append(u)\n",
    "    \n",
    "variable = \"analysed_sst\"\n",
    "\n",
    "schema = { 'geometry': 'Point', 'properties': { variable : 'float' } }\n",
    "with collection(\"Data/SHP/download_motuclient_NoNAN.shp\", \"w\", \"ESRI Shapefile\", schema) as output:\n",
    "    with open(\"Data/CSV/download_motuclient_NoNAN.csv\", 'r') as f:\n",
    "        reader = csv.DictReader(f)\n",
    "        for row in reader:\n",
    "            point = Point(float(row['lon']), float(row['lat']))\n",
    "            output.write({\n",
    "                  'properties': {\n",
    "                      variable: row[variable]\n",
    "                  },\n",
    "                \n",
    "                  'geometry': mapping(point)\n",
    "            })"
   ]
  },
  {
   "cell_type": "code",
   "execution_count": null,
   "metadata": {},
   "outputs": [],
   "source": [
    "#To read the shapefile generated\n",
    "sf = shapefile.Reader(\"Data/SHP/download_motuclient_NoNAN.shp\")"
   ]
  },
  {
   "cell_type": "code",
   "execution_count": null,
   "metadata": {},
   "outputs": [],
   "source": [
    "#To check the total number of records\n",
    "len(sf)"
   ]
  },
  {
   "cell_type": "code",
   "execution_count": null,
   "metadata": {},
   "outputs": [],
   "source": [
    "#To show the first 10 records of the \"analysed_sst\" variable\n",
    "sf.records()[0:10]"
   ]
  },
  {
   "cell_type": "markdown",
   "metadata": {},
   "source": [
    "To verify and check that the shapefile was generated correctly it is better to plot it (process done by the code below). It is interesting to see all the nodes or the data records (showed as red dots) inside the area of interest. In fact, The distance between each node or record is 0.25 degree as the product documentation can testify.  "
   ]
  },
  {
   "cell_type": "code",
   "execution_count": null,
   "metadata": {},
   "outputs": [],
   "source": [
    "plt.rcParams[\"figure.figsize\"] = (9,6)\n",
    "\n",
    "listx=[]\n",
    "listy=[]\n",
    "T =[]\n",
    "for sr in sf.shapeRecords():\n",
    "    for xNew,yNew in sr.shape.points:\n",
    "        listx.append(xNew-360)\n",
    "        listy.append(yNew)\n",
    "            \n",
    "\n",
    "plt.xlabel(\"Longitude\", fontsize=15, labelpad=20)\n",
    "plt.ylabel(\"Latitude\", fontsize=15, labelpad=20)           \n",
    "plt.plot(listx,listy,'ro', markersize=2)\n",
    "plt.show()"
   ]
  },
  {
   "cell_type": "markdown",
   "metadata": {},
   "source": [
    "## 5. Plot the Data\n",
    "In this section will be shown how to visualise the data in both global and local scale (that will give us a more detailed map). For this purpose we are going to use the monthly-mean file downloaded previously and stored as \"download_motuclient.nc\"."
   ]
  },
  {
   "cell_type": "markdown",
   "metadata": {},
   "source": [
    "### 5.1 Data visualization at global scale\n",
    "\n",
    "In the following plot a red poligon is overlayed in the location where we expect to visualise the data."
   ]
  },
  {
   "cell_type": "code",
   "execution_count": null,
   "metadata": {},
   "outputs": [],
   "source": [
    "plt.rcParams[\"figure.figsize\"] = (18,12)\n",
    "\n",
    "ax = plt.axes(projection=ccrs.PlateCarree())\n",
    "\n",
    "plt.title('SST_GLO_SST_L4_NRT_OBSERVATIONS_010_001 - 2020-04-15')\n",
    "\n",
    "gl = ax.gridlines(crs=ccrs.PlateCarree(), draw_labels=True,\n",
    "                  linewidth=1, color='gray', alpha=0.5, linestyle='--')\n",
    "\n",
    "gl.xlabels_top = False\n",
    "gl.ylabels_left = False\n",
    "\n",
    "ax.stock_img()\n",
    "ax.coastlines()\n",
    "\n",
    "#Area where we expect to have the data  \n",
    "pgon = Polygon(((-15, 35),(-15,45),(0,45),(0,35)))\n",
    "ax.add_geometries([pgon], crs=ccrs.PlateCarree(), facecolor = 'r', edgecolor='red', alpha=0.5)\n",
    "\n",
    "plt.show()"
   ]
  },
  {
   "cell_type": "markdown",
   "metadata": {},
   "source": [
    "Once we add the data to the plot above we can see as the area previously covered by a red polygon now contains the  \"analysed_sst\" data. It is just a preliminary plot just to have a general ata overview in a global map context."
   ]
  },
  {
   "cell_type": "code",
   "execution_count": null,
   "metadata": {},
   "outputs": [],
   "source": [
    "ax = plt.axes(projection=ccrs.PlateCarree())\n",
    "\n",
    "plt.title('SST_GLO_SST_L4_NRT_OBSERVATIONS_010_001 - 2020-04-15')\n",
    "\n",
    "#Data added to the plot\n",
    "plt.contourf(lons, lats, sst, 60, cmap='jet',\n",
    "             transform=ccrs.PlateCarree())\n",
    "\n",
    "gl = ax.gridlines(crs=ccrs.PlateCarree(), draw_labels=True,\n",
    "                  linewidth=1, color='gray', alpha=0.5, linestyle='--')\n",
    "\n",
    "gl.xlabels_top = False\n",
    "gl.ylabels_left = False\n",
    "\n",
    "ax.stock_img()\n",
    "ax.coastlines()\n",
    "\n",
    "plt.show()"
   ]
  },
  {
   "cell_type": "markdown",
   "metadata": {},
   "source": [
    "### 5.2 Map creation at local scale\n",
    "At this point we can create a detailed map (just related to the data inside its bounding box) which will give us a clearer idea of the data distribution and lead as to a better data insight."
   ]
  },
  {
   "cell_type": "code",
   "execution_count": null,
   "metadata": {},
   "outputs": [],
   "source": [
    "ax = plt.axes(projection=ccrs.PlateCarree())\n",
    "\n",
    "ax.add_feature(cfeature.LAND)\n",
    "ax.add_feature(cfeature.OCEAN)\n",
    "ax.add_feature(cfeature.COASTLINE)\n",
    "ax.add_feature(cfeature.BORDERS, linestyle=':')\n",
    "ax.add_feature(cfeature.LAKES, alpha=0.5)\n",
    "ax.add_feature(cfeature.RIVERS)\n",
    "\n",
    "plt.title('SST_GLO_SST_L4_NRT_OBSERVATIONS_010_001 - 2020-04-15')\n",
    "\n",
    "plt.contourf(lons, lats, sst, 60, cmap='jet',\n",
    "             transform=ccrs.PlateCarree())\n",
    "\n",
    "cb = plt.colorbar(orientation=\"vertical\", pad=0.1)\n",
    "cb.set_label(label='Analysed_SST [Kelvin]', size='xx-large', weight='bold',labelpad=20)\n",
    "\n",
    "\n",
    "gl = ax.gridlines(crs=ccrs.PlateCarree(), draw_labels=True,\n",
    "                  linewidth=1, color='gray', alpha=0.5, linestyle='--')\n",
    "\n",
    "gl.xlabels_top = False\n",
    "gl.ylabels_left = True\n",
    "gl.ylabels_right = False\n",
    "\n",
    "ax.text(-0.15, 0.5, 'Latitude', va='bottom', ha='center',\n",
    "        rotation='vertical', rotation_mode='anchor',\n",
    "        transform=ax.transAxes, fontsize=15)\n",
    "ax.text(0.5, -0.15, 'Longitude', va='bottom', ha='center',\n",
    "        rotation='horizontal', rotation_mode='anchor',\n",
    "        transform=ax.transAxes, fontsize=15)\n",
    "\n",
    "plt.show()"
   ]
  },
  {
   "cell_type": "markdown",
   "metadata": {},
   "source": [
    "And if we convert in Celcius degree:"
   ]
  },
  {
   "cell_type": "code",
   "execution_count": null,
   "metadata": {},
   "outputs": [],
   "source": [
    "ax = plt.axes(projection=ccrs.PlateCarree())\n",
    "\n",
    "ax.add_feature(cfeature.LAND)\n",
    "ax.add_feature(cfeature.OCEAN)\n",
    "ax.add_feature(cfeature.COASTLINE)\n",
    "ax.add_feature(cfeature.BORDERS, linestyle=':')\n",
    "ax.add_feature(cfeature.LAKES, alpha=0.5)\n",
    "ax.add_feature(cfeature.RIVERS)\n",
    "\n",
    "plt.title('SST_GLO_SST_L4_NRT_OBSERVATIONS_010_001 - 2020-04-15')\n",
    "\n",
    "sstC= sst-273.15\n",
    "\n",
    "plt.contourf(lons, lats, sstC, 60, cmap='jet',\n",
    "             transform=ccrs.PlateCarree())\n",
    "\n",
    "cb = plt.colorbar(orientation=\"vertical\", pad=0.1)\n",
    "cb.set_label(label='Analysed_SST [Celsius]', size='xx-large', weight='bold',labelpad=20)\n",
    "\n",
    "\n",
    "gl = ax.gridlines(crs=ccrs.PlateCarree(), draw_labels=True,\n",
    "                  linewidth=1, color='gray', alpha=0.5, linestyle='--')\n",
    "\n",
    "gl.xlabels_top = False\n",
    "gl.ylabels_left = True\n",
    "gl.ylabels_right = False\n",
    "\n",
    "ax.text(-0.15, 0.5, 'Latitude', va='bottom', ha='center',\n",
    "        rotation='vertical', rotation_mode='anchor',\n",
    "        transform=ax.transAxes, fontsize=15)\n",
    "ax.text(0.5, -0.15, 'Longitude', va='bottom', ha='center',\n",
    "        rotation='horizontal', rotation_mode='anchor',\n",
    "        transform=ax.transAxes, fontsize=15)\n",
    "\n",
    "plt.show()"
   ]
  },
  {
   "cell_type": "markdown",
   "metadata": {},
   "source": [
    "## 6. Recursive data plotting \n",
    "\n",
    "This section is pretty useful to plot recursively many plots of the same variable in fuction of the time. For this process It is used the 30 days file downloaded previously and saved as \"download_motuclient30days.nc\". We also need to find the maximum and minimum value of the \"analysed_sst\" variable contained in the file downloaded  so to set a fixed scale bar that is going to be used for all the plots (Doing that will allow the comparison of the plots in fuction of the time and then the \"analysed_sst\" value map variation will be displayed  using always the same color scale range). Are going to be produced a total of 30 plots, one for each time steps (30 days). "
   ]
  },
  {
   "cell_type": "code",
   "execution_count": null,
   "metadata": {},
   "outputs": [],
   "source": [
    "plt.rcParams[\"figure.figsize\"] = (9,6)\n",
    "\n",
    "with xr.open_dataset('Data/download_motuclient30days.nc') as file:\n",
    "    \n",
    "    minvar = file.analysed_sst.min()\n",
    "    maxvar = file.analysed_sst.max()\n",
    "    \n",
    "    for t in range(file.time.shape[0]):\n",
    "        \n",
    "        da = file.analysed_sst.isel(time=t)\n",
    "        \n",
    "        num = date2num(file.time[t])\n",
    "        date = num2date(num)\n",
    "        \n",
    "        lat  = file.variables['lat'][:]\n",
    "        lon  = file.variables['lon'][:]\n",
    "        \n",
    "        title = file.id+\" \"+\"-\"+\" \"+str(date)\n",
    "        \n",
    "        plt.title(title, fontsize=10)\n",
    "        plt.xlabel(\"Longitude\", fontsize=15, labelpad=40)\n",
    "        plt.ylabel(\"Latitude\", fontsize=15, labelpad=50)\n",
    "        \n",
    "        m=Basemap(projection='mill',lat_ts=10,llcrnrlon=lon.min(), \\\n",
    "        urcrnrlon=lon.max(),llcrnrlat=lat.min(),urcrnrlat=lat.max(), \\\n",
    "        resolution='h')\n",
    "        \n",
    "        m.drawcoastlines()\n",
    "        m.fillcontinents()\n",
    "        m.drawmapboundary()\n",
    "        \n",
    "        m.drawparallels(np.arange(-80., 81., 2.5), labels=[1,0,0,0], fontsize=15)\n",
    "        m.drawmeridians(np.arange(-180., 181., 2.5), labels=[0,0,0,1], fontsize=15)\n",
    "\n",
    "        x, y = m(*np.meshgrid(lon,lat))\n",
    "\n",
    "        col = m.pcolormesh(x,y,da,shading='flat',cmap=plt.cm.jet, vmin=minvar, vmax=maxvar)\n",
    "        \n",
    "        cbar = plt.colorbar(col)\n",
    "        \n",
    "        \n",
    "        cbar.ax.yaxis.set_ticks_position('right')\n",
    "        for I in cbar.ax.yaxis.get_ticklabels():\n",
    "            I.set_size(10)\n",
    "        \n",
    "        cbar.set_label(\"Analysed_SST\", size = 15, weight='bold',labelpad=20)\n",
    "        \n",
    "        plt.savefig('Data/PNG/{}.png'.format(t), dpi=100)\n",
    "        \n",
    "        plt.show()"
   ]
  },
  {
   "cell_type": "markdown",
   "metadata": {},
   "source": [
    "### 6.1 Plots animation (Gif)\n",
    "\n",
    "Below the code that will allow to stack all the plots obtained before in an animated GIF file: "
   ]
  },
  {
   "cell_type": "code",
   "execution_count": null,
   "metadata": {},
   "outputs": [],
   "source": [
    "gif_name = 'Analysed_SST'\n",
    "fps = 2\n",
    "\n",
    "file_list = glob.glob('Data/PNG/*.png') # Get all the pngs in the current directory\n",
    "lsorted = natsorted(file_list)\n",
    "#file_list.sort(key=os.path.getmtime) # Sort the images by generation time\n",
    "\n",
    "clip = mpy.ImageSequenceClip(lsorted, fps=fps)\n",
    "clip.write_gif('Data/GIF/{}.gif'.format(gif_name), fps=fps)"
   ]
  },
  {
   "cell_type": "markdown",
   "metadata": {},
   "source": [
    "Finally we can plot the gif file generated above as following:"
   ]
  },
  {
   "cell_type": "code",
   "execution_count": null,
   "metadata": {},
   "outputs": [],
   "source": [
    "from IPython.display import display, HTML\n",
    "\n",
    "HTML('''<div style=\"display: flex; justify-content: row;\">\n",
    "    <img src=\"Data/GIF/Analysed_SST.gif\">\n",
    "    \n",
    "</div>''')"
   ]
  },
  {
   "cell_type": "markdown",
   "metadata": {},
   "source": [
    "-----------------"
   ]
  },
  {
   "cell_type": "markdown",
   "metadata": {},
   "source": [
    "---------------"
   ]
  },
  {
   "cell_type": "markdown",
   "metadata": {},
   "source": [
    "# ![header](Images/thankyou.jpg)"
   ]
  },
  {
   "cell_type": "code",
   "execution_count": null,
   "metadata": {},
   "outputs": [],
   "source": []
  }
 ],
 "metadata": {
  "kernelspec": {
   "display_name": "Python 3",
   "language": "python",
   "name": "python3"
  },
  "language_info": {
   "codemirror_mode": {
    "name": "ipython",
    "version": 3
   },
   "file_extension": ".py",
   "mimetype": "text/x-python",
   "name": "python",
   "nbconvert_exporter": "python",
   "pygments_lexer": "ipython3",
   "version": "3.7.3"
  }
 },
 "nbformat": 4,
 "nbformat_minor": 4
}
